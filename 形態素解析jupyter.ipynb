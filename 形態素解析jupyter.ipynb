{
 "cells": [
  {
   "cell_type": "markdown",
   "metadata": {},
   "source": [
    "# 35. 名詞の連接"
   ]
  },
  {
   "cell_type": "code",
   "execution_count": 4,
   "metadata": {},
   "outputs": [
    {
     "name": "stdout",
     "output_type": "stream",
     "text": [
      "明治 三 十 八 年 何 月 何 日 戸締り "
     ]
    }
   ],
   "source": [
    "#!/usr/bin/env python\n",
    "import re\n",
    "import sys\n",
    "f = open('neko.txt.mecab', 'r')\n",
    "#p = re.compile('(名詞)+')\n",
    "lines = f.readlines()\n",
    "diclist = []\n",
    "poslist = []\n",
    "num = 0\n",
    "tempmax = 1\n",
    "n = 1\n",
    "almax = 0\n",
    "maxindex = 0\n",
    "for line in lines:\n",
    "\tif line != \"EOS\\n\":\n",
    "\t\tempty_dict = {}\n",
    "\t\tinit_dict = {\"surface\":\"\",\"base\":\"\",\"pos\":\"\",\"pos1\":\"\"}\n",
    "\t\tstr  = line.split(\"\\t\")\n",
    "\t\tinit_dict[\"surface\"] = str[0]\n",
    "\t\tstr2 = str[1].split(\",\")\n",
    "\t\tinit_dict[\"base\"] = str2[6]\n",
    "\t\tinit_dict[\"pos\"] = str2[0]\n",
    "\t\tinit_dict[\"pos1\"] = str2[1]\n",
    "\t\tdiclist.append(init_dict)\n",
    "f.close\n",
    "for dic in diclist:\n",
    "    #名詞を見つけた場合、連続して名詞が続く限りwhileループして、\n",
    "    #tempmaxを増やしていく\n",
    "\tif dic['pos'] == '名詞':\n",
    "\t\twhile diclist[num + n]['pos'] == '名詞':\n",
    "\t\t\ttempmax += 1\n",
    "\t\t\tn += 1\n",
    "            #ループを抜けたあと、今までの中で最長の値almaxと注目している名詞から始まる長さtempmaxを\n",
    "            #くらべて、tempmaxの方が大きい場合、almaxをtempmaxの値に更新し、注目している名詞の\n",
    "            #インデックスnumをmaxindexとして更新\n",
    "\t\tif tempmax > almax:\n",
    "\t\t\talmax = tempmax\n",
    "\t\t\tmaxindex = num\n",
    "\tn = 1\n",
    "\tnum += 1\n",
    "\ttempmax = 1\n",
    "#almaxは最長の名詞列の長さの値なのでその数だけforを回し、みつけた最長の文字列を出力\n",
    "for surfacenum in range(almax):\n",
    "    #cornumは出力する配列のインデックス\n",
    "\tcornum = surfacenum + maxindex\n",
    "\tsys.stdout.write(diclist[cornum]['surface'])\n",
    "\tsys.stdout.write(\" \")"
   ]
  },
  {
   "cell_type": "markdown",
   "metadata": {},
   "source": [
    "# 36. 単語の出現頻度"
   ]
  },
  {
   "cell_type": "code",
   "execution_count": 5,
   "metadata": {},
   "outputs": [
    {
     "name": "stdout",
     "output_type": "stream",
     "text": [
      "の 9114\n",
      "。 7484\n",
      "、 6772\n",
      "て 6678\n",
      "は 6384\n",
      "に 6162\n",
      "を 6068\n",
      "だ 5827\n",
      "と 5477\n",
      "が 5259\n"
     ]
    }
   ],
   "source": [
    "#!/usr/bin/env python\n",
    "from collections import Counter\n",
    "\n",
    "f = open('neko.txt.mecab', 'r')\n",
    "lines = f.readlines()\n",
    "diclist = []\n",
    "count = 0\n",
    "wordlist = []\n",
    "for line in lines:\n",
    "\tif line != \"EOS\\n\":\n",
    "\t\tempty_dict = {}\n",
    "\t\tinit_dict = {\"surface\":\"\",\"base\":\"\",\"pos\":\"\",\"pos1\":\"\"}\n",
    "\t\tstr  = line.split(\"\\t\")\n",
    "\t\tinit_dict[\"surface\"] = str[0]\n",
    "\t\tstr2 = str[1].split(\",\")\n",
    "\t\tinit_dict[\"base\"] = str2[6]\n",
    "\t\tinit_dict[\"pos\"] = str2[0]\n",
    "\t\tinit_dict[\"pos1\"] = str2[1]\n",
    "\t\tdiclist.append(init_dict)\n",
    "        #wordlistはbaseのリスト\n",
    "\t\twordlist.append(str2[6])\n",
    "f.close\n",
    "#collections.Counterを使うと便利\n",
    "#most_common([n])(原文)\n",
    "#最も多い n 要素を、カウントが多いものから少ないものまで順に並べたリストを返します。\n",
    "# n が省略されるか None であれば、 most_common() はカウンタの \n",
    "# すべての 要素を返します。等しいカウントの要素は任意に並べられます:\n",
    "counter = Counter(wordlist)\n",
    "for word, cnt in counter.most_common(10):\n",
    "\tprint(word, cnt)"
   ]
  },
  {
   "cell_type": "markdown",
   "metadata": {},
   "source": [
    "# 37. 頻度上位10語"
   ]
  },
  {
   "cell_type": "markdown",
   "metadata": {},
   "source": [
    "※matplotlibが日本語に対応しておらず、フォントを設定する必要がある(しないと日本語はすべて豆腐になる)  \n",
    "設定方法は、  \n",
    "http://ipafont.ipa.go.jp/　 から日本語のフォントをダウンロードして解凍  \n",
    "↓  \n",
    "ゴシック体の場合はipaexg.ttf、明朝体の場合はipaexm.ttfというファイルを  \n",
    "matplotlibのデフォルト設定ファイルの置いてあるフォルダにあるfonts/ttf/フォルダにコピー  \n",
    "（フォルダの場所は、  \\$ python3  → \\>\\>\\> import matplotlib  → \\>\\>\\> matplotlib.matplotlib_fname()  で検索できる)  \n",
    "↓  \n",
    "matplotlibrcファイルを開く  \n",
    "↓  \n",
    "ゴシック体の場合 font.family : IPAexGothic  \n",
    "明朝体の場合 font.family : IPAexMincho  \n",
    "という行を追加  \n",
    "(見やすくするなら150~160行目くらいのところにfontの欄があるはずなのでそこに書いても良い)  \n",
    "↓  \n",
    "matplotlibは使うフォントのキャッシュを持っているので、さきにキャッシュを削除しておく  \n",
    "\\$ python3  \n",
    "↓  \n",
    "\\>\\>\\>　import matplotlib  \n",
    "↓  \n",
    "\\>\\>\\> matplotlib.get_cachedir()  \n",
    "でキャッシュの場所を検索し、そこにあるfontList.py3k.cacheを削除  \n",
    "  \n",
    "これで日本語化ができます  "
   ]
  },
  {
   "cell_type": "code",
   "execution_count": null,
   "metadata": {},
   "outputs": [
    {
     "name": "stdout",
     "output_type": "stream",
     "text": [
      "の 9114\n",
      "。 7484\n",
      "、 6772\n",
      "て 6678\n",
      "は 6384\n",
      "に 6162\n",
      "を 6068\n",
      "だ 5827\n",
      "と 5477\n",
      "が 5259\n"
     ]
    },
    {
     "data": {
      "image/png": "[encoded data removed]",
      "text/plain": [
       "<matplotlib.figure.Figure at 0x10bdfe160>"
      ]
     },
     "metadata": {},
     "output_type": "display_data"
    }
   ],
   "source": [
    "#!/usr/bin/env python\n",
    "from collections import Counter\n",
    "import numpy as np\n",
    "import matplotlib.pyplot as plt\n",
    "\n",
    "\n",
    "f = open('neko.txt.mecab', 'r')\n",
    "lines = f.readlines()\n",
    "diclist = []\n",
    "count = 0\n",
    "wordlist = []\n",
    "x = np.array( [] )\n",
    "y = np.array( [] )\n",
    "\n",
    "for line in lines:\n",
    "\tif line != \"EOS\\n\":\n",
    "\t\tempty_dict = {}\n",
    "\t\tinit_dict = {\"surface\":\"\",\"base\":\"\",\"pos\":\"\",\"pos1\":\"\"}\n",
    "\t\tstr  = line.split(\"\\t\")\n",
    "\t\tinit_dict[\"surface\"] = str[0]\n",
    "\t\tstr2 = str[1].split(\",\")\n",
    "\t\tinit_dict[\"base\"] = str2[6]\n",
    "\t\tinit_dict[\"pos\"] = str2[0]\n",
    "\t\tinit_dict[\"pos1\"] = str2[1]\n",
    "\t\tdiclist.append(init_dict)\n",
    "\t\twordlist.append(str2[6])\n",
    "f.close\n",
    "\n",
    "#most_common([n])(原文)\n",
    "#最も多い n 要素を、カウントが多いものから少ないものまで順に並べたリストを返します。\n",
    "# n が省略されるか None であれば、 most_common() はカウンタの \n",
    "# すべての 要素を返します。等しいカウントの要素は任意に並べられます:\n",
    "counter = Counter(wordlist)\n",
    "for word, cnt in counter.most_common(10):\n",
    "\tprint(word, cnt)\n",
    "    #得られた上位10この単語と、その回数をnumpy配列に追加\n",
    "\tx = np.append( x, word )\n",
    "\ty = np.append( y, cnt )\n",
    "\n",
    "# matplotlib.pyplot.bar(left, height, width=0.8, bottom=None, hold=None,\n",
    "#                       data=None, **kwargs)\n",
    "#表示する文字をx内の文字に設定\n",
    "label = x\n",
    "#x座標の数を10個に設定\n",
    "left = np.array([1,2,3,4,5,6,7,8,9,10])\n",
    "#高さをyの値に設定\n",
    "height = y\n",
    "#plt.barは棒グラフの生成\n",
    "plt.bar(left, height,tick_label=label, align=\"center\")\n",
    "#グラフの出力\n",
    "plt.show()"
   ]
  },
  {
   "cell_type": "markdown",
   "metadata": {},
   "source": [
    "# 38. ヒストグラム"
   ]
  },
  {
   "cell_type": "code",
   "execution_count": null,
   "metadata": {
    "scrolled": true
   },
   "outputs": [],
   "source": [
    "#!/usr/bin/env python\n",
    "from collections import Counter\n",
    "import numpy as np\n",
    "import matplotlib.pyplot as plt\n",
    "\n",
    "\n",
    "f = open('neko.txt.mecab', 'r')\n",
    "lines = f.readlines()\n",
    "diclist = []\n",
    "count = 0\n",
    "wordlist = []\n",
    "x = np.array( [] )\n",
    "y = np.array( [] )\n",
    "\n",
    "for line in lines:\n",
    "\tif line != \"EOS\\n\":\n",
    "\t\tempty_dict = {}\n",
    "\t\tinit_dict = {\"surface\":\"\",\"base\":\"\",\"pos\":\"\",\"pos1\":\"\"}\n",
    "\t\tstr  = line.split(\"\\t\")\n",
    "\t\tinit_dict[\"surface\"] = str[0]\n",
    "\t\tstr2 = str[1].split(\",\")\n",
    "\t\tinit_dict[\"base\"] = str2[6]\n",
    "\t\tinit_dict[\"pos\"] = str2[0]\n",
    "\t\tinit_dict[\"pos1\"] = str2[1]\n",
    "\t\tdiclist.append(init_dict)\n",
    "\t\twordlist.append(str2[6])\n",
    "f.close\n",
    "\n",
    "#most_common([n])(原文)\n",
    "#最も多い n 要素を、カウントが多いものから少ないものまで順に並べたリストを返します。\n",
    "# n が省略されるか None であれば、 most_common() はカウンタの \n",
    "# すべての 要素を返します。等しいカウントの要素は任意に並べられます:\n",
    "counter = Counter(wordlist)\n",
    "for word, cnt in counter.most_common():\n",
    "\tx = np.append( x, word )\n",
    "\ty = np.append( y, cnt )\n",
    "\n",
    "# matplotlib.pyplot.bar(left, height, width=0.8, bottom=None, hold=None,\n",
    "#                       data=None, **kwargs)\n",
    "label = x\n",
    "#left = np.array([1,2,3,4,5,6,7,8,9,10])\n",
    "height = y\n",
    "plt.hist(y)\n",
    "plt.show()"
   ]
  },
  {
   "cell_type": "markdown",
   "metadata": {},
   "source": [
    "# 39. Zipfの法則"
   ]
  },
  {
   "cell_type": "code",
   "execution_count": null,
   "metadata": {},
   "outputs": [],
   "source": [
    "#!/usr/bin/env python\n",
    "from collections import Counter\n",
    "import numpy as np\n",
    "import matplotlib.pyplot as plt\n",
    "\n",
    "\n",
    "f = open('neko.txt.mecab', 'r')\n",
    "lines = f.readlines()\n",
    "diclist = []\n",
    "count = 0\n",
    "wordlist = []\n",
    "x = np.array( [] )\n",
    "y = np.array( [] )\n",
    "\n",
    "for line in lines:\n",
    "\tif line != \"EOS\\n\":\n",
    "\t\tempty_dict = {}\n",
    "\t\tinit_dict = {\"surface\":\"\",\"base\":\"\",\"pos\":\"\",\"pos1\":\"\"}\n",
    "\t\tstr  = line.split(\"\\t\")\n",
    "\t\tinit_dict[\"surface\"] = str[0]\n",
    "\t\tstr2 = str[1].split(\",\")\n",
    "\t\tinit_dict[\"base\"] = str2[6]\n",
    "\t\tinit_dict[\"pos\"] = str2[0]\n",
    "\t\tinit_dict[\"pos1\"] = str2[1]\n",
    "\t\tdiclist.append(init_dict)\n",
    "\t\twordlist.append(str2[6])\n",
    "f.close\n",
    "\n",
    "#most_common([n])(原文)\n",
    "#最も多い n 要素を、カウントが多いものから少ないものまで順に並べたリストを返します。\n",
    "# n が省略されるか None であれば、 most_common() はカウンタの \n",
    "# すべての 要素を返します。等しいカウントの要素は任意に並べられます:\n",
    "counter = Counter(wordlist)\n",
    "for word, cnt in counter.most_common():\n",
    "    #xの値は出現度順位なのでcountを用意\n",
    "\tx = np.append( x, count )\n",
    "\ty = np.append( y, cnt )\n",
    "\tcount += 1\n",
    "#x,yの値の対数をとる\n",
    "plt.xscale(\"log\")\n",
    "plt.yscale(\"log\")\n",
    "#プロット\n",
    "plt.plot(x,y)\n",
    "#出力\n",
    "plt.show()"
   ]
  }
 ],
 "metadata": {
  "kernelspec": {
   "display_name": "Python 3",
   "language": "python",
   "name": "python3"
  },
  "language_info": {
   "codemirror_mode": {
    "name": "ipython",
    "version": 3
   },
   "file_extension": ".py",
   "mimetype": "text/x-python",
   "name": "python",
   "nbconvert_exporter": "python",
   "pygments_lexer": "ipython3",
   "version": "3.6.1"
  }
 },
 "nbformat": 4,
 "nbformat_minor": 2
}
